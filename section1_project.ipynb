{
  "nbformat": 4,
  "nbformat_minor": 0,
  "metadata": {
    "colab": {
      "name": "section1_project.ipynb",
      "provenance": []
    },
    "kernelspec": {
      "name": "python3",
      "display_name": "Python 3"
    },
    "language_info": {
      "name": "python"
    }
  },
  "cells": [
    {
      "cell_type": "code",
      "metadata": {
        "id": "yFvQCaZU-HDv",
        "colab": {
          "base_uri": "https://localhost:8080/"
        },
        "outputId": "598dd9af-29bb-40b1-8928-eee99f7ca6f6"
      },
      "source": [
        "from google.colab import drive\n",
        "drive.mount('/content/drive')"
      ],
      "execution_count": 1,
      "outputs": [
        {
          "output_type": "stream",
          "name": "stdout",
          "text": [
            "Mounted at /content/drive\n"
          ]
        }
      ]
    },
    {
      "cell_type": "code",
      "metadata": {
        "colab": {
          "base_uri": "https://localhost:8080/"
        },
        "id": "UHDKtFAARVcs",
        "outputId": "915a8b21-60af-4627-cb56-478c0fc6a698"
      },
      "source": [
        "import pandas as pd\n",
        "\n",
        "# 데이터 불러오기\n",
        "df = pd.read_csv('/content/drive/MyDrive/vgames2.csv')\n",
        "\n",
        "df = df.drop('Unnamed: 0', axis = 1)\n",
        "\n",
        "df.dtypes"
      ],
      "execution_count": 2,
      "outputs": [
        {
          "output_type": "execute_result",
          "data": {
            "text/plain": [
              "Name            object\n",
              "Platform        object\n",
              "Year           float64\n",
              "Genre           object\n",
              "Publisher       object\n",
              "NA_Sales        object\n",
              "EU_Sales        object\n",
              "JP_Sales        object\n",
              "Other_Sales     object\n",
              "dtype: object"
            ]
          },
          "metadata": {},
          "execution_count": 2
        }
      ]
    },
    {
      "cell_type": "code",
      "metadata": {
        "id": "HPHgLMPA-BDs",
        "colab": {
          "base_uri": "https://localhost:8080/",
          "height": 492
        },
        "outputId": "eedb02e5-51d2-478c-e262-94f392473cf5"
      },
      "source": [
        "# 값 단위를 통일하기 위한 함수\n",
        "def change_unit(value):\n",
        "  if type(value) == float:\n",
        "    return value\n",
        "  if 'K' in value:\n",
        "    return float(value.replace('K','')) * 1000\n",
        "  elif 'M' in value:\n",
        "    return float(value.replace('M','')) * 1000000\n",
        "  else:\n",
        "    return float(value)\n",
        "\n",
        "\n",
        "# 각 열의 단위 변경\n",
        "df['NA_Sales'] = df['NA_Sales'].apply(change_unit)\n",
        "df['EU_Sales'] = df['EU_Sales'].apply(change_unit)\n",
        "df['JP_Sales'] = df['JP_Sales'].apply(change_unit)\n",
        "df['Other_Sales'] = df['Other_Sales'].apply(change_unit)\n",
        "\n",
        "\n",
        "df.head()"
      ],
      "execution_count": 3,
      "outputs": [
        {
          "output_type": "execute_result",
          "data": {
            "text/html": [
              "<div>\n",
              "<style scoped>\n",
              "    .dataframe tbody tr th:only-of-type {\n",
              "        vertical-align: middle;\n",
              "    }\n",
              "\n",
              "    .dataframe tbody tr th {\n",
              "        vertical-align: top;\n",
              "    }\n",
              "\n",
              "    .dataframe thead th {\n",
              "        text-align: right;\n",
              "    }\n",
              "</style>\n",
              "<table border=\"1\" class=\"dataframe\">\n",
              "  <thead>\n",
              "    <tr style=\"text-align: right;\">\n",
              "      <th></th>\n",
              "      <th>Name</th>\n",
              "      <th>Platform</th>\n",
              "      <th>Year</th>\n",
              "      <th>Genre</th>\n",
              "      <th>Publisher</th>\n",
              "      <th>NA_Sales</th>\n",
              "      <th>EU_Sales</th>\n",
              "      <th>JP_Sales</th>\n",
              "      <th>Other_Sales</th>\n",
              "    </tr>\n",
              "  </thead>\n",
              "  <tbody>\n",
              "    <tr>\n",
              "      <th>0</th>\n",
              "      <td>Candace Kane's Candy Factory</td>\n",
              "      <td>DS</td>\n",
              "      <td>2008.0</td>\n",
              "      <td>Action</td>\n",
              "      <td>Destineer</td>\n",
              "      <td>0.04</td>\n",
              "      <td>0.00</td>\n",
              "      <td>0.00</td>\n",
              "      <td>0.00</td>\n",
              "    </tr>\n",
              "    <tr>\n",
              "      <th>1</th>\n",
              "      <td>The Munchables</td>\n",
              "      <td>Wii</td>\n",
              "      <td>2009.0</td>\n",
              "      <td>Action</td>\n",
              "      <td>Namco Bandai Games</td>\n",
              "      <td>0.17</td>\n",
              "      <td>0.00</td>\n",
              "      <td>0.00</td>\n",
              "      <td>0.01</td>\n",
              "    </tr>\n",
              "    <tr>\n",
              "      <th>2</th>\n",
              "      <td>Otome wa Oanesama Boku ni Koi Shiteru Portable</td>\n",
              "      <td>PSP</td>\n",
              "      <td>2010.0</td>\n",
              "      <td>Adventure</td>\n",
              "      <td>Alchemist</td>\n",
              "      <td>0.00</td>\n",
              "      <td>0.00</td>\n",
              "      <td>0.02</td>\n",
              "      <td>0.00</td>\n",
              "    </tr>\n",
              "    <tr>\n",
              "      <th>3</th>\n",
              "      <td>Deal or No Deal: Special Edition</td>\n",
              "      <td>DS</td>\n",
              "      <td>2010.0</td>\n",
              "      <td>Misc</td>\n",
              "      <td>Zoo Games</td>\n",
              "      <td>0.04</td>\n",
              "      <td>0.00</td>\n",
              "      <td>0.00</td>\n",
              "      <td>0.00</td>\n",
              "    </tr>\n",
              "    <tr>\n",
              "      <th>4</th>\n",
              "      <td>Ben 10 Ultimate Alien: Cosmic Destruction</td>\n",
              "      <td>PS3</td>\n",
              "      <td>2010.0</td>\n",
              "      <td>Platform</td>\n",
              "      <td>D3Publisher</td>\n",
              "      <td>0.12</td>\n",
              "      <td>0.09</td>\n",
              "      <td>0.00</td>\n",
              "      <td>0.04</td>\n",
              "    </tr>\n",
              "  </tbody>\n",
              "</table>\n",
              "</div>"
            ],
            "text/plain": [
              "                                             Name  ... Other_Sales\n",
              "0                    Candace Kane's Candy Factory  ...        0.00\n",
              "1                                  The Munchables  ...        0.01\n",
              "2  Otome wa Oanesama Boku ni Koi Shiteru Portable  ...        0.00\n",
              "3                Deal or No Deal: Special Edition  ...        0.00\n",
              "4       Ben 10 Ultimate Alien: Cosmic Destruction  ...        0.04\n",
              "\n",
              "[5 rows x 9 columns]"
            ]
          },
          "metadata": {},
          "execution_count": 3
        }
      ]
    },
    {
      "cell_type": "code",
      "metadata": {
        "id": "sopwNtMhIbAY",
        "colab": {
          "base_uri": "https://localhost:8080/"
        },
        "outputId": "a270a3b2-9bdb-4fd2-d738-5ef9b927d472"
      },
      "source": [
        "# 1. 지역에 따라 선호하는 게임 장르가 다를까?\n",
        "\n",
        "eu_df =  df[['EU_Sales', 'Genre']]\n",
        "na_df = df[['NA_Sales', 'Genre']]\n",
        "jp_df = df[['JP_Sales', 'Genre']]\n",
        "other_df = df[['Other_Sales', 'Genre']]\n",
        "\n",
        "eu_df.shape, na_df.shape, jp_df.shape, other_df.shape"
      ],
      "execution_count": 4,
      "outputs": [
        {
          "output_type": "execute_result",
          "data": {
            "text/plain": [
              "((16598, 2), (16598, 2), (16598, 2), (16598, 2))"
            ]
          },
          "metadata": {},
          "execution_count": 4
        }
      ]
    },
    {
      "cell_type": "code",
      "metadata": {
        "id": "FkFmZfVcaRsz",
        "colab": {
          "base_uri": "https://localhost:8080/"
        },
        "outputId": "956d87c0-8572-449b-8b59-0a78c8ed2b35"
      },
      "source": [
        "# 판매량이 0일 경우 데이터에서 제외\n",
        "eu_df = eu_df[(eu_df.EU_Sales != 0)]\n",
        "na_df =na_df[(na_df.NA_Sales != 0)]\n",
        "jp_df = jp_df[(jp_df.JP_Sales != 0)]\n",
        "other_df = other_df[(other_df.Other_Sales != 0)]\n",
        "\n",
        "eu_df.shape, na_df.shape, jp_df.shape, other_df.shape"
      ],
      "execution_count": 5,
      "outputs": [
        {
          "output_type": "execute_result",
          "data": {
            "text/plain": [
              "((10868, 2), (12099, 2), (6143, 2), (10121, 2))"
            ]
          },
          "metadata": {},
          "execution_count": 5
        }
      ]
    },
    {
      "cell_type": "code",
      "metadata": {
        "id": "Fsf_YN6_c1ei",
        "colab": {
          "base_uri": "https://localhost:8080/",
          "height": 418
        },
        "outputId": "28720475-a151-4637-d0c8-1f89244e469b"
      },
      "source": [
        "# Genre 열을 기준으로 수량 카운트\n",
        "total_group = eu_df.groupby('Genre').count()\n",
        "na_group = na_df.groupby('Genre').count()\n",
        "jp_group = jp_df.groupby('Genre').count()\n",
        "other_group = other_df.groupby('Genre').count()\n",
        "\n",
        "# 데이터를 한 곳으로 합치기 \n",
        "total_group['NA_Sales'] = na_group['NA_Sales']\n",
        "total_group['JP_Sales'] = jp_group['JP_Sales']\n",
        "total_group['Other_Sales'] = other_group['Other_Sales']\n",
        "\n",
        "total_group = total_group.reset_index(drop = False)\n",
        "total_group"
      ],
      "execution_count": 6,
      "outputs": [
        {
          "output_type": "execute_result",
          "data": {
            "text/html": [
              "<div>\n",
              "<style scoped>\n",
              "    .dataframe tbody tr th:only-of-type {\n",
              "        vertical-align: middle;\n",
              "    }\n",
              "\n",
              "    .dataframe tbody tr th {\n",
              "        vertical-align: top;\n",
              "    }\n",
              "\n",
              "    .dataframe thead th {\n",
              "        text-align: right;\n",
              "    }\n",
              "</style>\n",
              "<table border=\"1\" class=\"dataframe\">\n",
              "  <thead>\n",
              "    <tr style=\"text-align: right;\">\n",
              "      <th></th>\n",
              "      <th>Genre</th>\n",
              "      <th>EU_Sales</th>\n",
              "      <th>NA_Sales</th>\n",
              "      <th>JP_Sales</th>\n",
              "      <th>Other_Sales</th>\n",
              "    </tr>\n",
              "  </thead>\n",
              "  <tbody>\n",
              "    <tr>\n",
              "      <th>0</th>\n",
              "      <td>Action</td>\n",
              "      <td>2452</td>\n",
              "      <td>2573</td>\n",
              "      <td>1161</td>\n",
              "      <td>2153</td>\n",
              "    </tr>\n",
              "    <tr>\n",
              "      <th>1</th>\n",
              "      <td>Adventure</td>\n",
              "      <td>492</td>\n",
              "      <td>544</td>\n",
              "      <td>739</td>\n",
              "      <td>451</td>\n",
              "    </tr>\n",
              "    <tr>\n",
              "      <th>2</th>\n",
              "      <td>Fighting</td>\n",
              "      <td>543</td>\n",
              "      <td>594</td>\n",
              "      <td>464</td>\n",
              "      <td>499</td>\n",
              "    </tr>\n",
              "    <tr>\n",
              "      <th>3</th>\n",
              "      <td>Misc</td>\n",
              "      <td>957</td>\n",
              "      <td>1204</td>\n",
              "      <td>536</td>\n",
              "      <td>1029</td>\n",
              "    </tr>\n",
              "    <tr>\n",
              "      <th>4</th>\n",
              "      <td>Platform</td>\n",
              "      <td>726</td>\n",
              "      <td>798</td>\n",
              "      <td>275</td>\n",
              "      <td>603</td>\n",
              "    </tr>\n",
              "    <tr>\n",
              "      <th>5</th>\n",
              "      <td>Puzzle</td>\n",
              "      <td>307</td>\n",
              "      <td>444</td>\n",
              "      <td>155</td>\n",
              "      <td>302</td>\n",
              "    </tr>\n",
              "    <tr>\n",
              "      <th>6</th>\n",
              "      <td>Racing</td>\n",
              "      <td>1020</td>\n",
              "      <td>1097</td>\n",
              "      <td>230</td>\n",
              "      <td>852</td>\n",
              "    </tr>\n",
              "    <tr>\n",
              "      <th>7</th>\n",
              "      <td>Role-Playing</td>\n",
              "      <td>771</td>\n",
              "      <td>855</td>\n",
              "      <td>1049</td>\n",
              "      <td>800</td>\n",
              "    </tr>\n",
              "    <tr>\n",
              "      <th>8</th>\n",
              "      <td>Shooter</td>\n",
              "      <td>1080</td>\n",
              "      <td>1146</td>\n",
              "      <td>378</td>\n",
              "      <td>927</td>\n",
              "    </tr>\n",
              "    <tr>\n",
              "      <th>9</th>\n",
              "      <td>Simulation</td>\n",
              "      <td>505</td>\n",
              "      <td>617</td>\n",
              "      <td>270</td>\n",
              "      <td>550</td>\n",
              "    </tr>\n",
              "    <tr>\n",
              "      <th>10</th>\n",
              "      <td>Sports</td>\n",
              "      <td>1568</td>\n",
              "      <td>1847</td>\n",
              "      <td>600</td>\n",
              "      <td>1583</td>\n",
              "    </tr>\n",
              "    <tr>\n",
              "      <th>11</th>\n",
              "      <td>Strategy</td>\n",
              "      <td>414</td>\n",
              "      <td>339</td>\n",
              "      <td>270</td>\n",
              "      <td>339</td>\n",
              "    </tr>\n",
              "  </tbody>\n",
              "</table>\n",
              "</div>"
            ],
            "text/plain": [
              "           Genre  EU_Sales  NA_Sales  JP_Sales  Other_Sales\n",
              "0         Action      2452      2573      1161         2153\n",
              "1      Adventure       492       544       739          451\n",
              "2       Fighting       543       594       464          499\n",
              "3           Misc       957      1204       536         1029\n",
              "4       Platform       726       798       275          603\n",
              "5         Puzzle       307       444       155          302\n",
              "6         Racing      1020      1097       230          852\n",
              "7   Role-Playing       771       855      1049          800\n",
              "8        Shooter      1080      1146       378          927\n",
              "9     Simulation       505       617       270          550\n",
              "10        Sports      1568      1847       600         1583\n",
              "11      Strategy       414       339       270          339"
            ]
          },
          "metadata": {},
          "execution_count": 6
        }
      ]
    },
    {
      "cell_type": "code",
      "metadata": {
        "id": "e40iEqM2jF47",
        "colab": {
          "base_uri": "https://localhost:8080/",
          "height": 314
        },
        "outputId": "c564dad2-1660-4bde-9c2c-671bc5f37c3b"
      },
      "source": [
        "import matplotlib.pyplot as plt\n",
        "\n",
        "\n",
        "# 가공된 데이터를 막대 그래프로 시각화\n",
        "total_group.plot(\n",
        "    x='Genre', \n",
        "    y=['EU_Sales', 'NA_Sales', 'JP_Sales', 'Other_Sales'], \n",
        "    kind=\"bar\",\n",
        "    figsize=(20,9), \n",
        "    color = ['#C6D57E', '#D57E7E', '#A2CDCD', '#FFE1AF']\n",
        ")\n",
        "\n",
        "# x축 글씨가 세로로 나와 회전 0으로 지정\n",
        "plt.xticks(rotation=0)\n",
        "plt.show()\n"
      ],
      "execution_count": 7,
      "outputs": [
        {
          "output_type": "display_data",
          "data": {
            "image/png": "[encoded data removed]",
            "text/plain": [
              "<Figure size 1440x648 with 1 Axes>"
            ]
          },
          "metadata": {
            "needs_background": "light"
          }
        }
      ]
    },
    {
      "cell_type": "code",
      "metadata": {
        "id": "bImeuL2KHvPP",
        "colab": {
          "base_uri": "https://localhost:8080/",
          "height": 417
        },
        "outputId": "a9166c00-26e7-4c55-9742-2e944a4f0af7"
      },
      "source": [
        "# 2. 연도별 게임의 트렌드가 있을까?\n",
        "\n",
        "\n",
        "# 기존 데이터에서 필요한 열들만 추출\n",
        "trend = df[['Year', 'Genre']]\n",
        "\n",
        "\n",
        "# 데이터 결측치 제거 후 1990 년대 이전 데이터 제거\n",
        "trend = trend[trend['Year'].notna()]\n",
        "\n",
        "trend = trend[trend.Year > 1990]\n",
        "\n",
        "trend = trend.reset_index(drop = True)\n",
        "\n",
        "trend"
      ],
      "execution_count": 8,
      "outputs": [
        {
          "output_type": "execute_result",
          "data": {
            "text/html": [
              "<div>\n",
              "<style scoped>\n",
              "    .dataframe tbody tr th:only-of-type {\n",
              "        vertical-align: middle;\n",
              "    }\n",
              "\n",
              "    .dataframe tbody tr th {\n",
              "        vertical-align: top;\n",
              "    }\n",
              "\n",
              "    .dataframe thead th {\n",
              "        text-align: right;\n",
              "    }\n",
              "</style>\n",
              "<table border=\"1\" class=\"dataframe\">\n",
              "  <thead>\n",
              "    <tr style=\"text-align: right;\">\n",
              "      <th></th>\n",
              "      <th>Year</th>\n",
              "      <th>Genre</th>\n",
              "    </tr>\n",
              "  </thead>\n",
              "  <tbody>\n",
              "    <tr>\n",
              "      <th>0</th>\n",
              "      <td>2008.0</td>\n",
              "      <td>Action</td>\n",
              "    </tr>\n",
              "    <tr>\n",
              "      <th>1</th>\n",
              "      <td>2009.0</td>\n",
              "      <td>Action</td>\n",
              "    </tr>\n",
              "    <tr>\n",
              "      <th>2</th>\n",
              "      <td>2010.0</td>\n",
              "      <td>Adventure</td>\n",
              "    </tr>\n",
              "    <tr>\n",
              "      <th>3</th>\n",
              "      <td>2010.0</td>\n",
              "      <td>Misc</td>\n",
              "    </tr>\n",
              "    <tr>\n",
              "      <th>4</th>\n",
              "      <td>2010.0</td>\n",
              "      <td>Platform</td>\n",
              "    </tr>\n",
              "    <tr>\n",
              "      <th>...</th>\n",
              "      <td>...</td>\n",
              "      <td>...</td>\n",
              "    </tr>\n",
              "    <tr>\n",
              "      <th>16002</th>\n",
              "      <td>2006.0</td>\n",
              "      <td>Platform</td>\n",
              "    </tr>\n",
              "    <tr>\n",
              "      <th>16003</th>\n",
              "      <td>2005.0</td>\n",
              "      <td>Action</td>\n",
              "    </tr>\n",
              "    <tr>\n",
              "      <th>16004</th>\n",
              "      <td>2015.0</td>\n",
              "      <td>Sports</td>\n",
              "    </tr>\n",
              "    <tr>\n",
              "      <th>16005</th>\n",
              "      <td>2013.0</td>\n",
              "      <td>Action</td>\n",
              "    </tr>\n",
              "    <tr>\n",
              "      <th>16006</th>\n",
              "      <td>1996.0</td>\n",
              "      <td>Fighting</td>\n",
              "    </tr>\n",
              "  </tbody>\n",
              "</table>\n",
              "<p>16007 rows × 2 columns</p>\n",
              "</div>"
            ],
            "text/plain": [
              "         Year      Genre\n",
              "0      2008.0     Action\n",
              "1      2009.0     Action\n",
              "2      2010.0  Adventure\n",
              "3      2010.0       Misc\n",
              "4      2010.0   Platform\n",
              "...       ...        ...\n",
              "16002  2006.0   Platform\n",
              "16003  2005.0     Action\n",
              "16004  2015.0     Sports\n",
              "16005  2013.0     Action\n",
              "16006  1996.0   Fighting\n",
              "\n",
              "[16007 rows x 2 columns]"
            ]
          },
          "metadata": {},
          "execution_count": 8
        }
      ]
    },
    {
      "cell_type": "code",
      "metadata": {
        "id": "SwuJb7WtKi0q"
      },
      "source": [
        "# Year 열을 기준으로 데이터 그룹화\n",
        "\n",
        "bins = list(range(1990, 2021, 10))\n",
        "label = ['1990s', '2000s', '2010s']\n",
        "\n",
        "trend['label'] = pd.cut(trend['Year'], bins, right = False, labels = label)\n",
        "trend = trend.drop(['Year'], axis = 1)"
      ],
      "execution_count": 9,
      "outputs": []
    },
    {
      "cell_type": "code",
      "metadata": {
        "id": "gwLRVuZoiIOZ",
        "colab": {
          "base_uri": "https://localhost:8080/",
          "height": 234
        },
        "outputId": "5c8fb941-8656-4018-d20e-0ae2f63e5d51"
      },
      "source": [
        "# 정확한 수를 계산하기 위해 그룹 별로 데이터를 분할 후 수량 계산\n",
        "\n",
        "trend_1990 = trend.loc[trend['label'] == '1990s']\n",
        "trend_2000 = trend.loc[trend['label'] == '2000s']\n",
        "trend_2010 = trend.loc[trend['label'] == '2010s']\n",
        "\n",
        "trend_1990 = pd.DataFrame({'1990s': trend_1990.groupby(['Genre']).size()})\n",
        "trend_2000 = pd.DataFrame({'2000s': trend_2000.groupby(['Genre']).size()})\n",
        "trend_2010 = pd.DataFrame({'2010s': trend_2010.groupby(['Genre']).size()})\n",
        "\n",
        "trend_2000.head()"
      ],
      "execution_count": 35,
      "outputs": [
        {
          "output_type": "execute_result",
          "data": {
            "text/html": [
              "<div>\n",
              "<style scoped>\n",
              "    .dataframe tbody tr th:only-of-type {\n",
              "        vertical-align: middle;\n",
              "    }\n",
              "\n",
              "    .dataframe tbody tr th {\n",
              "        vertical-align: top;\n",
              "    }\n",
              "\n",
              "    .dataframe thead th {\n",
              "        text-align: right;\n",
              "    }\n",
              "</style>\n",
              "<table border=\"1\" class=\"dataframe\">\n",
              "  <thead>\n",
              "    <tr style=\"text-align: right;\">\n",
              "      <th></th>\n",
              "      <th>2000s</th>\n",
              "    </tr>\n",
              "    <tr>\n",
              "      <th>Genre</th>\n",
              "      <th></th>\n",
              "    </tr>\n",
              "  </thead>\n",
              "  <tbody>\n",
              "    <tr>\n",
              "      <th>Action</th>\n",
              "      <td>1573</td>\n",
              "    </tr>\n",
              "    <tr>\n",
              "      <th>Adventure</th>\n",
              "      <td>630</td>\n",
              "    </tr>\n",
              "    <tr>\n",
              "      <th>Fighting</th>\n",
              "      <td>440</td>\n",
              "    </tr>\n",
              "    <tr>\n",
              "      <th>Misc</th>\n",
              "      <td>1015</td>\n",
              "    </tr>\n",
              "    <tr>\n",
              "      <th>Platform</th>\n",
              "      <td>559</td>\n",
              "    </tr>\n",
              "  </tbody>\n",
              "</table>\n",
              "</div>"
            ],
            "text/plain": [
              "           2000s\n",
              "Genre           \n",
              "Action      1573\n",
              "Adventure    630\n",
              "Fighting     440\n",
              "Misc        1015\n",
              "Platform     559"
            ]
          },
          "metadata": {},
          "execution_count": 35
        }
      ]
    },
    {
      "cell_type": "code",
      "metadata": {
        "id": "tGNCnPLN09aQ",
        "outputId": "ec736971-734c-444c-8c38-d8d2ea6a5988",
        "colab": {
          "base_uri": "https://localhost:8080/",
          "height": 418
        }
      },
      "source": [
        "trend_1990 = trend_1990.reset_index()\n",
        "trend_2000 = trend_2000.reset_index()\n",
        "trend_2010 = trend_2010.reset_index()\n",
        "\n",
        "trend_1990"
      ],
      "execution_count": 36,
      "outputs": [
        {
          "output_type": "execute_result",
          "data": {
            "text/html": [
              "<div>\n",
              "<style scoped>\n",
              "    .dataframe tbody tr th:only-of-type {\n",
              "        vertical-align: middle;\n",
              "    }\n",
              "\n",
              "    .dataframe tbody tr th {\n",
              "        vertical-align: top;\n",
              "    }\n",
              "\n",
              "    .dataframe thead th {\n",
              "        text-align: right;\n",
              "    }\n",
              "</style>\n",
              "<table border=\"1\" class=\"dataframe\">\n",
              "  <thead>\n",
              "    <tr style=\"text-align: right;\">\n",
              "      <th></th>\n",
              "      <th>Genre</th>\n",
              "      <th>1990s</th>\n",
              "    </tr>\n",
              "  </thead>\n",
              "  <tbody>\n",
              "    <tr>\n",
              "      <th>0</th>\n",
              "      <td>Action</td>\n",
              "      <td>155</td>\n",
              "    </tr>\n",
              "    <tr>\n",
              "      <th>1</th>\n",
              "      <td>Adventure</td>\n",
              "      <td>96</td>\n",
              "    </tr>\n",
              "    <tr>\n",
              "      <th>2</th>\n",
              "      <td>Fighting</td>\n",
              "      <td>191</td>\n",
              "    </tr>\n",
              "    <tr>\n",
              "      <th>3</th>\n",
              "      <td>Misc</td>\n",
              "      <td>115</td>\n",
              "    </tr>\n",
              "    <tr>\n",
              "      <th>4</th>\n",
              "      <td>Platform</td>\n",
              "      <td>121</td>\n",
              "    </tr>\n",
              "    <tr>\n",
              "      <th>5</th>\n",
              "      <td>Puzzle</td>\n",
              "      <td>69</td>\n",
              "    </tr>\n",
              "    <tr>\n",
              "      <th>6</th>\n",
              "      <td>Racing</td>\n",
              "      <td>177</td>\n",
              "    </tr>\n",
              "    <tr>\n",
              "      <th>7</th>\n",
              "      <td>Role-Playing</td>\n",
              "      <td>169</td>\n",
              "    </tr>\n",
              "    <tr>\n",
              "      <th>8</th>\n",
              "      <td>Shooter</td>\n",
              "      <td>136</td>\n",
              "    </tr>\n",
              "    <tr>\n",
              "      <th>9</th>\n",
              "      <td>Simulation</td>\n",
              "      <td>85</td>\n",
              "    </tr>\n",
              "    <tr>\n",
              "      <th>10</th>\n",
              "      <td>Sports</td>\n",
              "      <td>300</td>\n",
              "    </tr>\n",
              "    <tr>\n",
              "      <th>11</th>\n",
              "      <td>Strategy</td>\n",
              "      <td>121</td>\n",
              "    </tr>\n",
              "  </tbody>\n",
              "</table>\n",
              "</div>"
            ],
            "text/plain": [
              "           Genre  1990s\n",
              "0         Action    155\n",
              "1      Adventure     96\n",
              "2       Fighting    191\n",
              "3           Misc    115\n",
              "4       Platform    121\n",
              "5         Puzzle     69\n",
              "6         Racing    177\n",
              "7   Role-Playing    169\n",
              "8        Shooter    136\n",
              "9     Simulation     85\n",
              "10        Sports    300\n",
              "11      Strategy    121"
            ]
          },
          "metadata": {},
          "execution_count": 36
        }
      ]
    },
    {
      "cell_type": "code",
      "metadata": {
        "id": "FEvYklTTOpuY",
        "outputId": "2e771bd6-92ff-41b4-aa08-9ab2317854ca",
        "colab": {
          "base_uri": "https://localhost:8080/",
          "height": 466
        }
      },
      "source": [
        " def chart_pie(x, str):\n",
        "   fig = plt.figure(figsize = (8, 8))\n",
        "   fig.set_facecolor('white')\n",
        "\n",
        "   ax = fig.add_subplot()\n",
        "\n",
        "   color = ['#3DB2FF', '#57CC99', '#CAB8FF', '#FFFD95', \n",
        "           '#79B4B7', '#5C7AEA', '#C996CC', '#F4ABC4', \n",
        "           '#B5DEFF', '#38A3A5', '#FD6F96', '#FFC898']\n",
        "\n",
        "   ax.pie(x = x[str], \n",
        "        labels = x['Genre'], \n",
        "        autopct = lambda p: '{:.2f}%'.format(p),\n",
        "        colors = color\n",
        "        )\n",
        "   plt.show()\n",
        "\n",
        "\n",
        "\n",
        "chart_pie(trend_1990, '1990s')"
      ],
      "execution_count": 46,
      "outputs": [
        {
          "output_type": "display_data",
          "data": {
            "image/png": "[encoded data removed]",
            "text/plain": [
              "<Figure size 576x576 with 1 Axes>"
            ]
          },
          "metadata": {}
        }
      ]
    },
    {
      "cell_type": "code",
      "metadata": {
        "id": "wiAfGNYO2S1o",
        "outputId": "134b007c-514a-44a7-95eb-192fbc0cf9f0",
        "colab": {
          "base_uri": "https://localhost:8080/",
          "height": 466
        }
      },
      "source": [
        "chart_pie(trend_2000, '2000s')"
      ],
      "execution_count": 47,
      "outputs": [
        {
          "output_type": "display_data",
          "data": {
            "image/png": "[encoded data removed]",
            "text/plain": [
              "<Figure size 576x576 with 1 Axes>"
            ]
          },
          "metadata": {}
        }
      ]
    },
    {
      "cell_type": "code",
      "metadata": {
        "id": "KWrh_usU2XJN",
        "outputId": "6f4ce695-0f48-48e9-d74b-9d947756f572",
        "colab": {
          "base_uri": "https://localhost:8080/",
          "height": 466
        }
      },
      "source": [
        "chart_pie(trend_2010, '2010s')"
      ],
      "execution_count": 48,
      "outputs": [
        {
          "output_type": "display_data",
          "data": {
            "image/png": "[encoded data removed]",
            "text/plain": [
              "<Figure size 576x576 with 1 Axes>"
            ]
          },
          "metadata": {}
        }
      ]
    },
    {
      "cell_type": "code",
      "metadata": {
        "id": "OSmYefzTTLYx",
        "outputId": "f995fdc5-e54e-488b-f351-a90f2a1c8b43",
        "colab": {
          "base_uri": "https://localhost:8080/",
          "height": 418
        }
      },
      "source": [
        "rank_1990s = pd.DataFrame({\n",
        "    'Genre': res_trend['Genre'],\n",
        "    'top_rank': res_trend['1990s'].rank(method = 'max', ascending = False)\n",
        "    })\n",
        "\n",
        "rank_1990s"
      ],
      "execution_count": 21,
      "outputs": [
        {
          "output_type": "execute_result",
          "data": {
            "text/html": [
              "<div>\n",
              "<style scoped>\n",
              "    .dataframe tbody tr th:only-of-type {\n",
              "        vertical-align: middle;\n",
              "    }\n",
              "\n",
              "    .dataframe tbody tr th {\n",
              "        vertical-align: top;\n",
              "    }\n",
              "\n",
              "    .dataframe thead th {\n",
              "        text-align: right;\n",
              "    }\n",
              "</style>\n",
              "<table border=\"1\" class=\"dataframe\">\n",
              "  <thead>\n",
              "    <tr style=\"text-align: right;\">\n",
              "      <th></th>\n",
              "      <th>Genre</th>\n",
              "      <th>top_rank</th>\n",
              "    </tr>\n",
              "  </thead>\n",
              "  <tbody>\n",
              "    <tr>\n",
              "      <th>0</th>\n",
              "      <td>Action</td>\n",
              "      <td>5.0</td>\n",
              "    </tr>\n",
              "    <tr>\n",
              "      <th>1</th>\n",
              "      <td>Adventure</td>\n",
              "      <td>10.0</td>\n",
              "    </tr>\n",
              "    <tr>\n",
              "      <th>2</th>\n",
              "      <td>Fighting</td>\n",
              "      <td>2.0</td>\n",
              "    </tr>\n",
              "    <tr>\n",
              "      <th>3</th>\n",
              "      <td>Misc</td>\n",
              "      <td>9.0</td>\n",
              "    </tr>\n",
              "    <tr>\n",
              "      <th>4</th>\n",
              "      <td>Platform</td>\n",
              "      <td>8.0</td>\n",
              "    </tr>\n",
              "    <tr>\n",
              "      <th>5</th>\n",
              "      <td>Puzzle</td>\n",
              "      <td>12.0</td>\n",
              "    </tr>\n",
              "    <tr>\n",
              "      <th>6</th>\n",
              "      <td>Racing</td>\n",
              "      <td>3.0</td>\n",
              "    </tr>\n",
              "    <tr>\n",
              "      <th>7</th>\n",
              "      <td>Role-Playing</td>\n",
              "      <td>4.0</td>\n",
              "    </tr>\n",
              "    <tr>\n",
              "      <th>8</th>\n",
              "      <td>Shooter</td>\n",
              "      <td>6.0</td>\n",
              "    </tr>\n",
              "    <tr>\n",
              "      <th>9</th>\n",
              "      <td>Simulation</td>\n",
              "      <td>11.0</td>\n",
              "    </tr>\n",
              "    <tr>\n",
              "      <th>10</th>\n",
              "      <td>Sports</td>\n",
              "      <td>1.0</td>\n",
              "    </tr>\n",
              "    <tr>\n",
              "      <th>11</th>\n",
              "      <td>Strategy</td>\n",
              "      <td>8.0</td>\n",
              "    </tr>\n",
              "  </tbody>\n",
              "</table>\n",
              "</div>"
            ],
            "text/plain": [
              "           Genre  top_rank\n",
              "0         Action       5.0\n",
              "1      Adventure      10.0\n",
              "2       Fighting       2.0\n",
              "3           Misc       9.0\n",
              "4       Platform       8.0\n",
              "5         Puzzle      12.0\n",
              "6         Racing       3.0\n",
              "7   Role-Playing       4.0\n",
              "8        Shooter       6.0\n",
              "9     Simulation      11.0\n",
              "10        Sports       1.0\n",
              "11      Strategy       8.0"
            ]
          },
          "metadata": {},
          "execution_count": 21
        }
      ]
    }
  ]
}