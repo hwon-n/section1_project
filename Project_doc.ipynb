{
  "nbformat": 4,
  "nbformat_minor": 0,
  "metadata": {
    "colab": {
      "name": "Project_doc.ipynb",
      "provenance": [],
      "authorship_tag": "ABX9TyNrkyms5uAOP9p0tYoZEgkJ",
      "include_colab_link": true
    },
    "kernelspec": {
      "name": "python3",
      "display_name": "Python 3"
    },
    "language_info": {
      "name": "python"
    }
  },
  "cells": [
    {
      "cell_type": "markdown",
      "metadata": {
        "id": "view-in-github",
        "colab_type": "text"
      },
      "source": [
        "<a href=\"https://colab.research.google.com/github/hwon-n/section1_project/blob/master/Project_doc.ipynb\" target=\"_parent\"><img src=\"https://colab.research.google.com/assets/colab-badge.svg\" alt=\"Open In Colab\"/></a>"
      ]
    },
    {
      "cell_type": "markdown",
      "metadata": {
        "id": "MdpPzH-wVljM"
      },
      "source": [
        "# Section1 Project를 어떻게 하면 좋을까?\n",
        "\n",
        "\n",
        "#### 핵심 내용\n",
        "\n",
        "✔ 다음 분기에 어떤 게임을 설계해야 할까? \n",
        "\n",
        "\n",
        "\n",
        "\n",
        " #### 필수 내용 ❗❗\n",
        "\n",
        "\n",
        "1. 지역에 따라서 선호하는 게임 장르가 다를까?\n",
        "2. 연도별 게임의 트렌드가 있을까?\n",
        "3. 출고량이 높은 게임에 대한 분석 및 시각화 프로세스\n",
        "\n",
        "\n",
        "#### 추가 내용\n",
        "\n",
        "1. 고민해보기 ...\n",
        "\n"
      ]
    },
    {
      "cell_type": "markdown",
      "metadata": {
        "id": "kNMSYWZCWIYc"
      },
      "source": [
        "### 지역에 따라서 선호하는 게임 장르가 다를까? 🤔\n",
        "\n",
        "👉 북미 / 유럽 / 일본 / 기타지역의 출고량을 장르 기준으로 나눠보자. (필요 셀: NA_Sales, EU_Sales, JP_Sales, Other_Sales Genre)\n",
        "\n",
        "👉 해당 장르가 출시된 게임을 세기 위해서 각각의 df로 나눈 후 0 값을 제거하자\n",
        "\n",
        "👉 북미 / 유럽 / 일본 / 기타 지역의 결과를 Bar Graph를 사용해서 시각화 해보자.\n",
        "\n"
      ]
    },
    {
      "cell_type": "markdown",
      "metadata": {
        "id": "sQl-HPbkW0XJ"
      },
      "source": [
        "### 연도별 게임의 트렌드가 있을까? 🤔\n",
        "\n",
        "👉 1990~2000 / 2000 ~ 2010 /  2010 ~ 현재 세 부분으로 그룹을 만들어보자 (필요 셀: Genre, Year)\n",
        "\n",
        "👉 NA 혹은 위의 세 그룹에 포함되지 않는 경우는 빼고 진행하기\n",
        "\n",
        "👉 만든 세 그룹의 장르를 살펴보기. (필요 셀: Genre, Year)\n",
        "\n",
        "> 👉 세 그룹을 따로 나눠서 count 한 다음 하나로 합치기 (각 그룹의 수량만 세기 위해서)\n",
        "\n",
        "👉 시각화의 결론을 설명해보기"
      ]
    },
    {
      "cell_type": "markdown",
      "metadata": {
        "id": "onkjZ8m-X8S6"
      },
      "source": [
        "### 출고량이 높은 게임에 대한 분석 및 시각화 프로세스 \n",
        "\n",
        "👉 출고량을 모두 더한 총 합계 셀(Total_Sales)을 추가해보자. (사용 셀: NA_Sales, EU_Sales, JP_Sales, Other_Sales)\n",
        "\n",
        "👉 총 합계 셀의 top 10을 데려와서 게임 이름, 장르, 플랫폼, 제작회사를 살펴본 후 이를 분석해보자. \n",
        "\n"
      ]
    },
    {
      "cell_type": "markdown",
      "metadata": {
        "id": "1CKpmrhnY65D"
      },
      "source": [
        "## 출고량 수치가 다른건 어떻게 처리해야할까? 🤔\n",
        "\n",
        "👉 String 형태로 입력된 데이터(ex. 40K, 0.03M)를 float 형태로 바꿔보자.<br />\n",
        "> 👉어떤 기준으로 바꿔야하지? 원래 float 데이터들의 기준은 뭐지? <br />\n",
        "> 🔎 데이터의 기준은 잘 모르겠지만 일단 백만을 기준으로 수치를 모두 소수점으로 만들었다. 백만장이 넘게 출고된 게임들은 1.x 같은 형식으로 출력될 수 있도록 했다. \n",
        "\n",
        "\n",
        "\n",
        "👉 float 형태의 데이터 중 1.xx를 넘는 데이터는 어떻게 처리할까? 🤔\n",
        "\n",
        "> 👉 백만장이 넘게 팔린걸로 해석함\n",
        "\n",
        "\n"
      ]
    },
    {
      "cell_type": "markdown",
      "metadata": {
        "id": "VfHmFSs-agty"
      },
      "source": [
        "🔎 다음 분기에 설계할 게임은?\n",
        "\n",
        "게임의 트렌드와 출고량이 높은 게임을 종합해서 설계해보자\n"
      ]
    }
  ]
}